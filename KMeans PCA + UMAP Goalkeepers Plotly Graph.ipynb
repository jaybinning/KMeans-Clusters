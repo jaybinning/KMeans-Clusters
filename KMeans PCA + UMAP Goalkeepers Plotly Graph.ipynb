{
 "cells": [
  {
   "cell_type": "code",
   "execution_count": 222,
   "id": "927b1dd9-a398-4030-beae-dd3170ff1646",
   "metadata": {},
   "outputs": [],
   "source": [
    "import pandas as pd"
   ]
  },
  {
   "cell_type": "code",
   "execution_count": 224,
   "id": "29ec9eb2-351c-41b9-b3cb-c06c3f31e3c6",
   "metadata": {},
   "outputs": [],
   "source": [
    "data = pd.read_excel('Goalkeeper Player Similarity KMeans Data.xlsx')"
   ]
  },
  {
   "cell_type": "code",
   "execution_count": 225,
   "id": "73e6b659-b967-47ee-99c5-f33c518f075d",
   "metadata": {},
   "outputs": [],
   "source": [
    "data = data.fillna(0)"
   ]
  },
  {
   "cell_type": "code",
   "execution_count": 226,
   "id": "abfbfa55-4603-4c81-8f6e-0f0fc4d22afd",
   "metadata": {},
   "outputs": [],
   "source": [
    "filtered_data = data[data['90s'] >= 15]"
   ]
  },
  {
   "cell_type": "code",
   "execution_count": 230,
   "id": "6e1cfafa-ca2b-4d66-b3f7-e06a228bfa8d",
   "metadata": {},
   "outputs": [
    {
     "name": "stdout",
     "output_type": "stream",
     "text": [
      "Index(['Player', 'Nation', 'Squad', 'Comp', 'Age', 'Born', 'MP', 'Starts',\n",
      "       'Min', '90s', 'GA90', 'Saves', 'Save%', 'CS', 'CS%', 'PKsv', 'PKm',\n",
      "       'Save%.1', 'CK', 'PSxG', 'PSxG/SoT', 'PSxG+/-', 'Cmp', 'Att', 'Cmp%',\n",
      "       'Att (GK)', 'Thr', 'Launch%', 'AvgLen', 'Att.1', 'Launch%.1',\n",
      "       'AvgLen.1', 'Opp', 'Stp', 'Stp%', '#OPA', 'AvgDist'],\n",
      "      dtype='object')\n"
     ]
    }
   ],
   "source": [
    "print(filtered_data.columns)"
   ]
  },
  {
   "cell_type": "code",
   "execution_count": 232,
   "id": "9a65bbfd-7cd8-4881-80b8-807f06e2555b",
   "metadata": {},
   "outputs": [],
   "source": [
    "hover_data_info = filtered_data[['Player', 'Age', 'Squad', 'Comp']]"
   ]
  },
  {
   "cell_type": "code",
   "execution_count": 234,
   "id": "9533c926-f69e-4b8f-9861-007918321805",
   "metadata": {},
   "outputs": [],
   "source": [
    "filtered_data = filtered_data.drop(columns=['Player', 'Nation', 'Squad', 'Comp', 'Age', 'Born', 'MP', 'Starts', 'Min', '90s'])"
   ]
  },
  {
   "cell_type": "code",
   "execution_count": 236,
   "id": "3a1c30c4-232c-4b29-b178-ae770bd835f2",
   "metadata": {},
   "outputs": [],
   "source": [
    "from sklearn.preprocessing import StandardScaler"
   ]
  },
  {
   "cell_type": "code",
   "execution_count": 238,
   "id": "8f9d6e86-879b-42dc-b1e8-d960ff96f671",
   "metadata": {},
   "outputs": [],
   "source": [
    "scaler = StandardScaler()"
   ]
  },
  {
   "cell_type": "code",
   "execution_count": 240,
   "id": "5ef79b90-92b6-4e26-8bf1-6657c519123f",
   "metadata": {},
   "outputs": [],
   "source": [
    "scaled_data = scaler.fit_transform(filtered_data)"
   ]
  },
  {
   "cell_type": "code",
   "execution_count": 242,
   "id": "e7dda50c-94cb-4299-b26b-927532576449",
   "metadata": {},
   "outputs": [],
   "source": [
    "from sklearn.decomposition import PCA"
   ]
  },
  {
   "cell_type": "code",
   "execution_count": 244,
   "id": "0d12f1e4-4447-48f5-bdf4-fd161ce98186",
   "metadata": {},
   "outputs": [],
   "source": [
    "pca_model = PCA(n_components = 11)"
   ]
  },
  {
   "cell_type": "code",
   "execution_count": 246,
   "id": "be029107-71ab-4b1d-baa9-6c1b95968541",
   "metadata": {},
   "outputs": [],
   "source": [
    "pca_data = pca.fit_transform(scaled_data)"
   ]
  },
  {
   "cell_type": "code",
   "execution_count": 248,
   "id": "ad784bd0-8f9f-4bad-a6a9-bd50ca7b794b",
   "metadata": {},
   "outputs": [],
   "source": [
    "from sklearn.manifold import TSNE"
   ]
  },
  {
   "cell_type": "code",
   "execution_count": 250,
   "id": "e6c0c135-2679-4934-9d20-d01e0d4c7f8c",
   "metadata": {},
   "outputs": [],
   "source": [
    "tsne_model = TSNE(n_components = 2, perplexity = 10, learning_rate = 100)"
   ]
  },
  {
   "cell_type": "code",
   "execution_count": 252,
   "id": "6986316c-e74d-405e-8a04-9eaef3945a13",
   "metadata": {},
   "outputs": [],
   "source": [
    "tsne_data = tsne_model.fit_transform(pca_data)"
   ]
  },
  {
   "cell_type": "code",
   "execution_count": 253,
   "id": "21e02ca8-d820-409f-8d29-614f007eaebf",
   "metadata": {},
   "outputs": [],
   "source": [
    "from sklearn.cluster import KMeans"
   ]
  },
  {
   "cell_type": "code",
   "execution_count": 254,
   "id": "00076eb3-24d4-45f3-946a-2c6a572b73f7",
   "metadata": {},
   "outputs": [],
   "source": [
    "from yellowbrick.cluster import KElbowVisualizer"
   ]
  },
  {
   "cell_type": "code",
   "execution_count": 255,
   "id": "cbf80bb3-411e-4b9e-bcb6-d931a8b2cff2",
   "metadata": {},
   "outputs": [
    {
     "name": "stderr",
     "output_type": "stream",
     "text": [
      "C:\\Users\\jbinn\\anaconda3\\Lib\\site-packages\\sklearn\\cluster\\_kmeans.py:1429: UserWarning:\n",
      "\n",
      "KMeans is known to have a memory leak on Windows with MKL, when there are less chunks than available threads. You can avoid it by setting the environment variable OMP_NUM_THREADS=1.\n",
      "\n",
      "C:\\Users\\jbinn\\anaconda3\\Lib\\site-packages\\sklearn\\cluster\\_kmeans.py:1429: UserWarning:\n",
      "\n",
      "KMeans is known to have a memory leak on Windows with MKL, when there are less chunks than available threads. You can avoid it by setting the environment variable OMP_NUM_THREADS=1.\n",
      "\n",
      "C:\\Users\\jbinn\\anaconda3\\Lib\\site-packages\\sklearn\\cluster\\_kmeans.py:1429: UserWarning:\n",
      "\n",
      "KMeans is known to have a memory leak on Windows with MKL, when there are less chunks than available threads. You can avoid it by setting the environment variable OMP_NUM_THREADS=1.\n",
      "\n",
      "C:\\Users\\jbinn\\anaconda3\\Lib\\site-packages\\sklearn\\cluster\\_kmeans.py:1429: UserWarning:\n",
      "\n",
      "KMeans is known to have a memory leak on Windows with MKL, when there are less chunks than available threads. You can avoid it by setting the environment variable OMP_NUM_THREADS=1.\n",
      "\n",
      "C:\\Users\\jbinn\\anaconda3\\Lib\\site-packages\\sklearn\\cluster\\_kmeans.py:1429: UserWarning:\n",
      "\n",
      "KMeans is known to have a memory leak on Windows with MKL, when there are less chunks than available threads. You can avoid it by setting the environment variable OMP_NUM_THREADS=1.\n",
      "\n",
      "C:\\Users\\jbinn\\anaconda3\\Lib\\site-packages\\sklearn\\cluster\\_kmeans.py:1429: UserWarning:\n",
      "\n",
      "KMeans is known to have a memory leak on Windows with MKL, when there are less chunks than available threads. You can avoid it by setting the environment variable OMP_NUM_THREADS=1.\n",
      "\n",
      "C:\\Users\\jbinn\\anaconda3\\Lib\\site-packages\\sklearn\\cluster\\_kmeans.py:1429: UserWarning:\n",
      "\n",
      "KMeans is known to have a memory leak on Windows with MKL, when there are less chunks than available threads. You can avoid it by setting the environment variable OMP_NUM_THREADS=1.\n",
      "\n",
      "C:\\Users\\jbinn\\anaconda3\\Lib\\site-packages\\sklearn\\cluster\\_kmeans.py:1429: UserWarning:\n",
      "\n",
      "KMeans is known to have a memory leak on Windows with MKL, when there are less chunks than available threads. You can avoid it by setting the environment variable OMP_NUM_THREADS=1.\n",
      "\n",
      "C:\\Users\\jbinn\\anaconda3\\Lib\\site-packages\\sklearn\\cluster\\_kmeans.py:1429: UserWarning:\n",
      "\n",
      "KMeans is known to have a memory leak on Windows with MKL, when there are less chunks than available threads. You can avoid it by setting the environment variable OMP_NUM_THREADS=1.\n",
      "\n",
      "C:\\Users\\jbinn\\anaconda3\\Lib\\site-packages\\sklearn\\cluster\\_kmeans.py:1429: UserWarning:\n",
      "\n",
      "KMeans is known to have a memory leak on Windows with MKL, when there are less chunks than available threads. You can avoid it by setting the environment variable OMP_NUM_THREADS=1.\n",
      "\n"
     ]
    },
    {
     "data": {
      "image/png": "[encoded data removed]",
      "text/plain": [
       "<Figure size 800x550 with 2 Axes>"
      ]
     },
     "metadata": {},
     "output_type": "display_data"
    },
    {
     "data": {
      "text/plain": [
       "<Axes: title={'center': 'Distortion Score Elbow for KMeans Clustering'}, xlabel='k', ylabel='distortion score'>"
      ]
     },
     "execution_count": 255,
     "metadata": {},
     "output_type": "execute_result"
    }
   ],
   "source": [
    "kmeans_test = KMeans()\n",
    "visualizer = KElbowVisualizer(kmeans_test, k=(2, 12))\n",
    "visualizer.fit(tsne_data)\n",
    "visualizer.show()"
   ]
  },
  {
   "cell_type": "code",
   "execution_count": 256,
   "id": "3b424e99-e639-4e9d-807d-00a81068c96d",
   "metadata": {},
   "outputs": [],
   "source": [
    "kmeans_model = KMeans(n_clusters = 4)"
   ]
  },
  {
   "cell_type": "code",
   "execution_count": 257,
   "id": "cea46e1e-c7c0-486d-b04d-8f2567c3e3c0",
   "metadata": {},
   "outputs": [
    {
     "name": "stderr",
     "output_type": "stream",
     "text": [
      "C:\\Users\\jbinn\\anaconda3\\Lib\\site-packages\\sklearn\\cluster\\_kmeans.py:1429: UserWarning:\n",
      "\n",
      "KMeans is known to have a memory leak on Windows with MKL, when there are less chunks than available threads. You can avoid it by setting the environment variable OMP_NUM_THREADS=1.\n",
      "\n"
     ]
    }
   ],
   "source": [
    "labels = kmeans_model.fit_predict(tsne_data)"
   ]
  },
  {
   "cell_type": "code",
   "execution_count": 258,
   "id": "5f9406cf-ecbf-49c2-b1b5-576d2a5a4b45",
   "metadata": {},
   "outputs": [],
   "source": [
    "import plotly.express as px"
   ]
  },
  {
   "cell_type": "code",
   "execution_count": 262,
   "id": "d0970104-4121-4a7b-88d5-36ebd307972c",
   "metadata": {},
   "outputs": [],
   "source": [
    "plot_df = pd.DataFrame(tsne_data, columns = ['t-SNE 1', 't-SNE 2'])"
   ]
  },
  {
   "cell_type": "code",
   "execution_count": 263,
   "id": "8a9a52a0-19b2-49f2-9b75-45e031641264",
   "metadata": {},
   "outputs": [],
   "source": [
    "plot_df['Cluster'] = labels"
   ]
  },
  {
   "cell_type": "code",
   "execution_count": 264,
   "id": "4b065856-244c-447e-ac9a-8b7b2c217131",
   "metadata": {},
   "outputs": [],
   "source": [
    "plot_df = pd.concat([plot_df, hover_data_info.reset_index(drop=True)], axis=1)"
   ]
  },
  {
   "cell_type": "code",
   "execution_count": 274,
   "id": "7be77bbb-5ec4-4e63-9094-3dc1bd400366",
   "metadata": {},
   "outputs": [
    {
     "data": {
      "application/vnd.plotly.v1+json": {
       "config": {
        "plotlyServerURL": "https://plot.ly"
       },
       "data": [
        {
         "customdata": [
          [
           "Kepa Arrizabalaga",
           30,
           "Bournemouth",
           "Premier League"
          ],
          [
           "Marcin Bulka",
           25,
           "Nice",
           "Ligue 1"
          ],
          [
           "Marco Carnesecchi",
           24,
           "Atalanta",
           "Serie A"
          ],
          [
           "Lucas Chevalier",
           23,
           "Lille",
           "Ligue 1"
          ],
          [
           "Thibaut Courtois",
           32,
           "Real Madrid",
           "La Liga"
          ],
          [
           "Gianluigi Donnarumma",
           25,
           "Paris S-G",
           "Ligue 1"
          ],
          [
           "Ederson",
           31,
           "Manchester City",
           "Premier League"
          ],
          [
           "Paulo Gazzaniga",
           33,
           "Girona",
           "La Liga"
          ],
          [
           "David de Gea",
           34,
           "Fiorentina",
           "Serie A"
          ],
          [
           "Vicente Guaita",
           38,
           "Celta Vigo",
           "La Liga"
          ],
          [
           "Péter Gulácsi",
           34,
           "RB Leipzig",
           "Bundesliga"
          ],
          [
           "Lukáš Hrádecký",
           35,
           "Leverkusen",
           "Bundesliga"
          ],
          [
           "Gregor Kobel",
           27,
           "Dortmund",
           "Bundesliga"
          ],
          [
           "Bernd Leno",
           32,
           "Fulham",
           "Premier League"
          ],
          [
           "Mike Maignan",
           29,
           "Milan",
           "Serie A"
          ],
          [
           "Steve Mandanda",
           39,
           "Rennes",
           "Ligue 1"
          ],
          [
           "Emiliano Martínez",
           32,
           "Aston Villa",
           "Premier League"
          ],
          [
           "Alex Meret",
           27,
           "Napoli",
           "Serie A"
          ],
          [
           "Manuel Neuer",
           38,
           "Bayern Munich",
           "Bundesliga"
          ],
          [
           "Alexander Nübel",
           28,
           "Stuttgart",
           "Bundesliga"
          ],
          [
           "Lucas Perri",
           27,
           "Lyon",
           "Ligue 1"
          ],
          [
           "Nick Pope",
           32,
           "Newcastle Utd",
           "Premier League"
          ],
          [
           "Ivan Provedel",
           30,
           "Lazio",
           "Serie A"
          ],
          [
           "Guillaume Restes",
           19,
           "Toulouse",
           "Ligue 1"
          ],
          [
           "Gerónimo Rulli",
           32,
           "Marseille",
           "Ligue 1"
          ],
          [
           "Robert Sánchez",
           27,
           "Chelsea",
           "Premier League"
          ],
          [
           "Rui Silva",
           30,
           "Betis",
           "La Liga"
          ],
          [
           "Lukasz Skorupski",
           33,
           "Bologna",
           "Serie A"
          ],
          [
           "Yann Sommer",
           36,
           "Inter",
           "Serie A"
          ],
          [
           "Mile Svilar",
           25,
           "Roma",
           "Serie A"
          ],
          [
           "Bart Verbruggen",
           22,
           "Brighton",
           "Premier League"
          ],
          [
           "Michael Zetterer",
           29,
           "Werder Bremen",
           "Bundesliga"
          ],
          [
           "Seny Dieng",
           30,
           "Middlesbrough",
           "EFL Championship"
          ],
          [
           "Angus Gunn",
           29,
           "Norwich City",
           "EFL Championship"
          ],
          [
           "Illan Meslier",
           24,
           "Leeds United",
           "EFL Championship"
          ],
          [
           "Alex Palmer",
           28,
           "West Brom",
           "EFL Championship"
          ],
          [
           "Drake Callender",
           26,
           "Inter Miami",
           "MLS"
          ],
          [
           "Roman Celentano",
           23,
           "FC Cincinnati",
           "MLS"
          ],
          [
           "Steve Clark",
           37,
           "Houston Dynamo",
           "MLS"
          ],
          [
           "Matt Freese",
           25,
           "NYCFC",
           "MLS"
          ],
          [
           "Pedro Gallese",
           33,
           "Orlando City",
           "MLS"
          ],
          [
           "Kristijan Kahlina",
           31,
           "Charlotte",
           "MLS"
          ],
          [
           "Zac MacMath",
           32,
           "Real Salt Lake",
           "MLS"
          ],
          [
           "Maarten Paes",
           25,
           "FC Dallas",
           "MLS"
          ],
          [
           "Patrick Schulte",
           22,
           "Columbus Crew",
           "MLS"
          ],
          [
           "Jonathan Sirois",
           22,
           "CF Montréal",
           "MLS"
          ],
          [
           "Anderson",
           25,
           "Cruzeiro",
           "Campeonato Brasileiro Série A"
          ],
          [
           "Éverson",
           33,
           "Atlético Mineiro",
           "Campeonato Brasileiro Série A"
          ],
          [
           "Marcos Felipe",
           27,
           "Bahia",
           "Campeonato Brasileiro Série A"
          ],
          [
           "Rafael Pires",
           34,
           "São Paulo",
           "Campeonato Brasileiro Série A"
          ],
          [
           "Sergio Rochet",
           30,
           "Internacional",
           "Campeonato Brasileiro Série A"
          ],
          [
           "Cleiton Schwengber",
           26,
           "Red Bull Bragantino",
           "Campeonato Brasileiro Série A"
          ],
          [
           "Sebastiano Desplanches",
           21,
           "Palermo",
           "Serie B"
          ],
          [
           "Marco Festa",
           32,
           "Mantova",
           "Serie B"
          ],
          [
           "Andrea Fulignati",
           30,
           "Cremonese",
           "Serie B"
          ],
          [
           "Luigi Sepe",
           33,
           "Salernitana",
           "Serie B"
          ]
         ],
         "hovertemplate": "color=1<br>t-SNE 1=%{x}<br>t-SNE 2=%{y}<br>Player=%{customdata[0]}<br>Age=%{customdata[1]}<br>Squad=%{customdata[2]}<br>Comp=%{customdata[3]}<extra></extra>",
         "legendgroup": "1",
         "marker": {
          "color": "#636efa",
          "symbol": "circle"
         },
         "mode": "markers",
         "name": "1",
         "orientation": "v",
         "showlegend": true,
         "type": "scatter",
         "x": [
          -4.646841526031494,
          -1.6635541915893555,
          -11.688865661621094,
          -15.082825660705566,
          -19.84874153137207,
          -17.40184211730957,
          -14.179469108581543,
          8.168176651000977,
          -2.378385543823242,
          -4.087690830230713,
          -9.661431312561035,
          2.1616439819335938,
          5.459480285644531,
          3.250275135040283,
          6.439839839935303,
          11.129813194274902,
          8.502254486083984,
          -18.882217407226562,
          -15.834952354431152,
          5.615507125854492,
          -5.245874404907227,
          0.9109048843383789,
          10.182785034179688,
          11.538897514343262,
          5.472555160522461,
          -7.429152488708496,
          -11.276220321655273,
          11.145610809326172,
          -18.121448516845703,
          -8.630741119384766,
          5.571742534637451,
          6.114033222198486,
          -21.217687606811523,
          1.6502950191497803,
          -21.32265853881836,
          -14.969720840454102,
          -1.1379698514938354,
          -5.633830547332764,
          -14.75002384185791,
          0.09083174169063568,
          -3.850383758544922,
          -1.612271785736084,
          -9.327962875366211,
          -2.0745949745178223,
          -15.699596405029297,
          1.8928481340408325,
          -10.452451705932617,
          -4.83688497543335,
          -8.399075508117676,
          -7.106916904449463,
          -13.586760520935059,
          -1.2641886472702026,
          -8.515924453735352,
          -13.003683090209961,
          -13.972901344299316,
          -7.342076301574707
         ],
         "xaxis": "x",
         "y": [
          5.388914108276367,
          7.342910289764404,
          11.68846321105957,
          20.69866943359375,
          17.02630615234375,
          16.291948318481445,
          25.524580001831055,
          27.034509658813477,
          16.536041259765625,
          12.120360374450684,
          7.707662582397461,
          17.99994659423828,
          18.951467514038086,
          19.089292526245117,
          26.11481285095215,
          22.505733489990234,
          15.115922927856445,
          23.80362319946289,
          26.89340591430664,
          23.653493881225586,
          7.51444673538208,
          12.652732849121094,
          18.320114135742188,
          23.927370071411133,
          27.453250885009766,
          25.028688430786133,
          13.687458992004395,
          20.23114776611328,
          22.25354766845703,
          12.675187110900879,
          20.092126846313477,
          17.12862205505371,
          18.428863525390625,
          20.749780654907227,
          15.186345100402832,
          9.735223770141602,
          10.048660278320312,
          11.268756866455078,
          17.432144165039062,
          10.558720588684082,
          18.936006546020508,
          28.5010986328125,
          21.81849479675293,
          23.429975509643555,
          18.45296287536621,
          10.170219421386719,
          6.288609027862549,
          18.29340934753418,
          23.351083755493164,
          16.432931900024414,
          10.142983436584473,
          27.462379455566406,
          15.24974250793457,
          17.31095314025879,
          21.469449996948242,
          11.228889465332031
         ],
         "yaxis": "y"
        },
        {
         "customdata": [
          [
           "Noah Atubolu",
           22,
           "Freiburg",
           "Bundesliga"
          ],
          [
           "Oliver Baumann",
           34,
           "Hoffenheim",
           "Bundesliga"
          ],
          [
           "Jasper Cillessen",
           35,
           "Las Palmas",
           "La Liga"
          ],
          [
           "Arthur Desmas",
           30,
           "Le Havre",
           "Ligue 1"
          ],
          [
           "Yehvann Diouf",
           25,
           "Reims",
           "Ligue 1"
          ],
          [
           "Wladimiro Falcone",
           29,
           "Lecce",
           "Serie A"
          ],
          [
           "Mark Flekken",
           31,
           "Brentford",
           "Premier League"
          ],
          [
           "Kamil Grabara",
           26,
           "Wolfsburg",
           "Bundesliga"
          ],
          [
           "Dominik Greif",
           27,
           "Mallorca",
           "La Liga"
          ],
          [
           "Dean Henderson",
           27,
           "Crystal Palace",
           "Premier League"
          ],
          [
           "Mads Hermansen",
           24,
           "Leicester City",
           "Premier League"
          ],
          [
           "Karl Jakob Hein",
           22,
           "Valladolid",
           "La Liga"
          ],
          [
           "Nediljko Labrovic",
           25,
           "Augsburg",
           "Bundesliga"
          ],
          [
           "Gautier Larsonneur",
           27,
           "Saint-Étienne",
           "Ligue 1"
          ],
          [
           "Benjamin Lecomte",
           33,
           "Montpellier",
           "Ligue 1"
          ],
          [
           "Giorgi Mamardashvili",
           24,
           "Valencia",
           "La Liga"
          ],
          [
           "Kevin Müller",
           33,
           "Heidenheim",
           "Bundesliga"
          ],
          [
           "Arijanet Muric",
           26,
           "Ipswich Town",
           "Premier League"
          ],
          [
           "Moritz Nicolas",
           27,
           "Gladbach",
           "Bundesliga"
          ],
          [
           "Ðorde Petrovic",
           25,
           "Strasbourg",
           "Ligue 1"
          ],
          [
           "Jordan Pickford",
           30,
           "Everton",
           "Premier League"
          ],
          [
           "Aaron Ramsdale",
           26,
           "Southampton",
           "Premier League"
          ],
          [
           "José Sá",
           32,
           "Wolves",
           "Premier League"
          ],
          [
           "Filip Stankovic",
           22,
           "Venezia",
           "Serie A"
          ],
          [
           "Zion Suzuki",
           22,
           "Parma",
           "Serie A"
          ],
          [
           "Stefano Turati",
           23,
           "Monza",
           "Serie A"
          ],
          [
           "Timon Weiner",
           26,
           "Holstein Kiel",
           "Bundesliga"
          ],
          [
           "Daniel Bachmann",
           30,
           "Watford",
           "EFL Championship"
          ],
          [
           "Jamie Cumming",
           25,
           "Oxford United",
           "EFL Championship"
          ],
          [
           "Daniel Grimshaw",
           27,
           "Plymouth Argyle",
           "EFL Championship"
          ],
          [
           "Thomas Kaminski",
           32,
           "Luton Town",
           "EFL Championship"
          ],
          [
           "Ivor Pandur",
           24,
           "Hull City",
           "EFL Championship"
          ],
          [
           "Roman Bürki",
           33,
           "St. Louis",
           "MLS"
          ],
          [
           "Maxime Crépeau",
           29,
           "Portland Timbers",
           "MLS"
          ],
          [
           "Brad Guzan",
           39,
           "Atlanta Utd",
           "MLS"
          ],
          [
           "Aljaž Ivacic",
           30,
           "NE Revolution",
           "MLS"
          ],
          [
           "John McCarthy",
           31,
           "LA Galaxy",
           "MLS"
          ],
          [
           "Tim Melia",
           37,
           "Sporting KC",
           "MLS"
          ],
          [
           "Dayne St. Clair",
           26,
           "Minnesota Utd",
           "MLS"
          ],
          [
           "William Yarbrough",
           34,
           "SJ Earthquakes",
           "MLS"
          ],
          [
           "Michele Cerofolini",
           26,
           "Frosinone",
           "Serie B"
          ],
          [
           "Mirko Pigliacelli",
           31,
           "Catanzaro",
           "Serie B"
          ]
         ],
         "hovertemplate": "color=3<br>t-SNE 1=%{x}<br>t-SNE 2=%{y}<br>Player=%{customdata[0]}<br>Age=%{customdata[1]}<br>Squad=%{customdata[2]}<br>Comp=%{customdata[3]}<extra></extra>",
         "legendgroup": "3",
         "marker": {
          "color": "#EF553B",
          "symbol": "circle"
         },
         "mode": "markers",
         "name": "3",
         "orientation": "v",
         "showlegend": true,
         "type": "scatter",
         "x": [
          8.511038780212402,
          16.498632431030273,
          4.015317916870117,
          13.540688514709473,
          6.4760894775390625,
          2.1479201316833496,
          3.8008012771606445,
          16.153839111328125,
          2.3884713649749756,
          12.688036918640137,
          29.963237762451172,
          25.363914489746094,
          24.906761169433594,
          6.536207675933838,
          26.370141983032227,
          15.918249130249023,
          11.708869934082031,
          30.927318572998047,
          0.1575450450181961,
          2.046788454055786,
          9.99193000793457,
          21.999706268310547,
          19.442455291748047,
          5.168951511383057,
          29.97188949584961,
          14.105783462524414,
          23.321306228637695,
          10.921624183654785,
          7.179107189178467,
          19.6554012298584,
          13.32385540008545,
          -1.9798672199249268,
          7.753223419189453,
          24.801067352294922,
          11.664267539978027,
          9.141444206237793,
          -1.3934623003005981,
          16.879745483398438,
          13.61890983581543,
          23.543315887451172,
          1.1075042486190796,
          -3.4432973861694336
         ],
         "xaxis": "x",
         "y": [
          -21.559707641601562,
          -17.353736877441406,
          -14.472496032714844,
          -13.629197120666504,
          -13.794057846069336,
          -10.216094970703125,
          -21.09317398071289,
          -19.635440826416016,
          -8.722783088684082,
          -7.785531520843506,
          -13.200879096984863,
          -11.888713836669922,
          -13.114904403686523,
          -15.55911922454834,
          -14.557547569274902,
          -7.322281360626221,
          -13.306946754455566,
          -10.021275520324707,
          -22.65564727783203,
          -21.92015266418457,
          -25.009496688842773,
          -18.413681030273438,
          -8.177425384521484,
          -16.727680206298828,
          -11.358477592468262,
          -19.50537872314453,
          -16.215660095214844,
          -8.61221981048584,
          -11.878870964050293,
          -19.950180053710938,
          -17.79388427734375,
          -30.528390884399414,
          -8.43779182434082,
          -9.98849105834961,
          -20.715129852294922,
          -15.946663856506348,
          -14.439826011657715,
          -9.75829792022705,
          -9.250833511352539,
          -14.801451683044434,
          -11.287034034729004,
          -23.275049209594727
         ],
         "yaxis": "y"
        },
        {
         "customdata": [
          [
           "Augusto Batalla",
           28,
           "Rayo Vallecano",
           "La Liga"
          ],
          [
           "Marco Bizot",
           33,
           "Brest",
           "Ligue 1"
          ],
          [
           "Diego Conde",
           26,
           "Villarreal",
           "La Liga"
          ],
          [
           "Michele Di Gregorio",
           27,
           "Juventus",
           "Serie A"
          ],
          [
           "Nicola Leali",
           31,
           "Genoa",
           "Serie A"
          ],
          [
           "Vanja Milinkovic-Savic",
           27,
           "Torino",
           "Serie A"
          ],
          [
           "Lorenzo Montipò",
           28,
           "Hellas Verona",
           "Serie A"
          ],
          [
           "Jan Oblak",
           32,
           "Atlético Madrid",
           "La Liga"
          ],
          [
           "Álex Remiro",
           29,
           "Real Sociedad",
           "La Liga"
          ],
          [
           "Frederik Rønnow",
           32,
           "Union Berlin",
           "Bundesliga"
          ],
          [
           "Brice Samba",
           30,
           "Lens",
           "Ligue 1"
          ],
          [
           "Matz Sels",
           32,
           "Nott'ham Forest",
           "Premier League"
          ],
          [
           "Antonio Sivera",
           28,
           "Alavés",
           "La Liga"
          ],
          [
           "David Soria",
           31,
           "Getafe",
           "La Liga"
          ],
          [
           "Nikola Vasilj",
           29,
           "St. Pauli",
           "Bundesliga"
          ],
          [
           "Devis Vásquez",
           26,
           "Empoli",
           "Serie A"
          ],
          [
           "Michael Cooper",
           25,
           "Sheffield Utd",
           "EFL Championship"
          ],
          [
           "Oliver Dovin",
           22,
           "Coventry City",
           "EFL Championship"
          ],
          [
           "Paul Nardi",
           30,
           "QPR",
           "EFL Championship"
          ],
          [
           "Anthony Patterson",
           24,
           "Sunderland",
           "EFL Championship"
          ],
          [
           "Aynsley Pears",
           26,
           "Blackburn",
           "EFL Championship"
          ],
          [
           "James Trafford",
           22,
           "Burnley",
           "EFL Championship"
          ],
          [
           "Stefan Frei",
           37,
           "Seattle Sounders FC",
           "MLS"
          ],
          [
           "Lucas Arcanjo",
           25,
           "Vitória",
           "Campeonato Brasileiro Série A"
          ],
          [
           "Cássio",
           36,
           "Cruzeiro",
           "Campeonato Brasileiro Série A"
          ],
          [
           "Fábio",
           43,
           "Fluminense",
           "Campeonato Brasileiro Série A"
          ],
          [
           "Gustavo",
           30,
           "Criciúma",
           "Campeonato Brasileiro Série A"
          ],
          [
           "Léo Jardim",
           28,
           "Vasco da Gama",
           "Campeonato Brasileiro Série A"
          ],
          [
           "John",
           27,
           "Botafogo (RJ)",
           "Campeonato Brasileiro Série A"
          ],
          [
           "Agustín Marchesín",
           35,
           "Grêmio",
           "Campeonato Brasileiro Série A"
          ],
          [
           "Mycael",
           19,
           "Ath Paranaense",
           "Campeonato Brasileiro Série A"
          ],
          [
           "João Ricardo Riedi",
           35,
           "Fortaleza",
           "Campeonato Brasileiro Série A"
          ],
          [
           "Ronaldo",
           27,
           "Atl Goianiense",
           "Campeonato Brasileiro Série A"
          ],
          [
           "Hugo Souza",
           25,
           "Corinthians",
           "Campeonato Brasileiro Série A"
          ],
          [
           "Walter",
           36,
           "Cuiabá",
           "Campeonato Brasileiro Série A"
          ],
          [
           "Wéverton",
           36,
           "Palmeiras",
           "Campeonato Brasileiro Série A"
          ],
          [
           "Francesco Bardi",
           33,
           "Reggiana",
           "Serie B"
          ],
          [
           "Marco Bleve",
           29,
           "Carrarese",
           "Serie B"
          ],
          [
           "Riccardo Gagno",
           27,
           "Modena",
           "Serie B"
          ],
          [
           "Stefano Gori",
           28,
           "Spezia",
           "Serie B"
          ],
          [
           "Elhan Kastrati",
           28,
           "Cittadella",
           "Serie B"
          ],
          [
           "Luca Lezzerini",
           29,
           "Brescia",
           "Serie B"
          ],
          [
           "Horatiu Moldovan",
           27,
           "Sassuolo",
           "Serie B"
          ],
          [
           "Giacomo Poluzzi",
           36,
           "Südtirol",
           "Serie B"
          ],
          [
           "Boris Radunovic",
           28,
           "Bari",
           "Serie B"
          ],
          [
           "Adrian Šemper",
           27,
           "Pisa",
           "Serie B"
          ],
          [
           "Demba Thiam",
           26,
           "Juve Stabia",
           "Serie B"
          ]
         ],
         "hovertemplate": "color=2<br>t-SNE 1=%{x}<br>t-SNE 2=%{y}<br>Player=%{customdata[0]}<br>Age=%{customdata[1]}<br>Squad=%{customdata[2]}<br>Comp=%{customdata[3]}<extra></extra>",
         "legendgroup": "2",
         "marker": {
          "color": "#00cc96",
          "symbol": "circle"
         },
         "mode": "markers",
         "name": "2",
         "orientation": "v",
         "showlegend": true,
         "type": "scatter",
         "x": [
          -10.658764839172363,
          -13.469757080078125,
          -5.5886945724487305,
          -20.28603172302246,
          -18.63676643371582,
          -11.404548645019531,
          -11.840167999267578,
          -23.422426223754883,
          -25.397722244262695,
          -15.409529685974121,
          -24.862384796142578,
          -22.774578094482422,
          -18.986038208007812,
          -22.924936294555664,
          -12.819921493530273,
          -13.21540355682373,
          -23.42881202697754,
          -6.438203811645508,
          -4.917295455932617,
          -21.755626678466797,
          -21.927749633789062,
          -25.54507064819336,
          -18.850013732910156,
          -3.9927690029144287,
          -10.640141487121582,
          -11.879694938659668,
          -5.181583404541016,
          -3.1694092750549316,
          -24.21613883972168,
          -8.322134017944336,
          -7.078244686126709,
          -6.918038845062256,
          -11.80938720703125,
          -12.995133399963379,
          -5.640469551086426,
          -16.290115356445312,
          -18.094751358032227,
          -23.250661849975586,
          -12.706757545471191,
          -26.619932174682617,
          -14.677268028259277,
          -1.9564979076385498,
          -17.339237213134766,
          -13.284381866455078,
          -14.53428840637207,
          -20.08612823486328,
          -13.815542221069336
         ],
         "xaxis": "x",
         "y": [
          -15.267849922180176,
          -24.740713119506836,
          -4.630190372467041,
          5.864315986633301,
          -4.015509128570557,
          -8.01062297821045,
          -27.30545425415039,
          7.347601413726807,
          2.698788642883301,
          -9.199686050415039,
          -7.7681169509887695,
          -16.755138397216797,
          -17.10626792907715,
          -17.95388412475586,
          -8.356782913208008,
          -19.48593521118164,
          -5.305022716522217,
          1.3708922863006592,
          0.2614828050136566,
          1.6651151180267334,
          -0.2643774151802063,
          -2.4292538166046143,
          2.3645970821380615,
          -5.282630443572998,
          2.802760362625122,
          3.9381113052368164,
          -13.086078643798828,
          -14.067363739013672,
          4.108634948730469,
          -14.761698722839355,
          -10.50182056427002,
          -16.21022605895996,
          -14.092469215393066,
          3.2110671997070312,
          -14.373649597167969,
          7.493134498596191,
          0.8294054269790649,
          -6.582734107971191,
          -16.554323196411133,
          2.2477710247039795,
          0.7544182538986206,
          -5.945378303527832,
          2.9870049953460693,
          -25.64095687866211,
          3.5763490200042725,
          -14.830887794494629,
          -18.48185920715332
         ],
         "yaxis": "y"
        },
        {
         "customdata": [
          [
           "Marko Dmitrovic",
           33,
           "Leganés",
           "La Liga"
          ],
          [
           "Patrick Drewes",
           31,
           "Bochum",
           "Bundesliga"
          ],
          [
           "Yahia Fofana",
           24,
           "Angers",
           "Ligue 1"
          ],
          [
           "Joan García",
           23,
           "Espanyol",
           "La Liga"
          ],
          [
           "Sergio Herrera",
           31,
           "Osasuna",
           "La Liga"
          ],
          [
           "Donovan Léon",
           32,
           "Auxerre",
           "Ligue 1"
          ],
          [
           "André Onana",
           28,
           "Manchester Utd",
           "Premier League"
          ],
          [
           "David Raya",
           29,
           "Arsenal",
           "Premier League"
          ],
          [
           "Robin Zentner",
           30,
           "Mainz 05",
           "Bundesliga"
          ],
          [
           "Jak Alnwick",
           31,
           "Cardiff City",
           "EFL Championship"
          ],
          [
           "James Beadle",
           20,
           "Sheffield Weds",
           "EFL Championship"
          ],
          [
           "Lukas Jensen",
           25,
           "Millwall",
           "EFL Championship"
          ],
          [
           "Viktor Johansson",
           26,
           "Stoke City",
           "EFL Championship"
          ],
          [
           "Max O'Leary",
           28,
           "Bristol City",
           "EFL Championship"
          ],
          [
           "Nicolas Schmid",
           27,
           "Portsmouth",
           "EFL Championship"
          ],
          [
           "Lawrence Vigouroux",
           31,
           "Swansea City",
           "EFL Championship"
          ],
          [
           "Jacob Widell Zetterström",
           26,
           "Derby County",
           "EFL Championship"
          ],
          [
           "Freddie Woodman",
           27,
           "Preston",
           "EFL Championship"
          ],
          [
           "Alex Bono",
           29,
           "D.C. United",
           "MLS"
          ],
          [
           "Christopher Brady",
           19,
           "Chicago Fire",
           "MLS"
          ],
          [
           "Carlos Coronel",
           27,
           "NY Red Bulls",
           "MLS"
          ],
          [
           "Sean Johnson",
           34,
           "Toronto FC",
           "MLS"
          ],
          [
           "Hugo Lloris",
           37,
           "LAFC",
           "MLS"
          ],
          [
           "Oliver Semmle",
           25,
           "Philadelphia Union",
           "MLS"
          ],
          [
           "Zack Steffen",
           28,
           "Colorado Rapids",
           "MLS"
          ],
          [
           "Brad Stuver",
           32,
           "Austin",
           "MLS"
          ],
          [
           "Yohei Takaoka",
           27,
           "Vancouver W'caps",
           "MLS"
          ],
          [
           "Joe Willis",
           35,
           "Nashville SC",
           "MLS"
          ],
          [
           "Gabriel",
           31,
           "Juventude",
           "Campeonato Brasileiro Série A"
          ],
          [
           "Agustín Rossi",
           28,
           "Flamengo",
           "Campeonato Brasileiro Série A"
          ],
          [
           "Alessandro Micai",
           31,
           "Cosenza",
           "Serie B"
          ]
         ],
         "hovertemplate": "color=0<br>t-SNE 1=%{x}<br>t-SNE 2=%{y}<br>Player=%{customdata[0]}<br>Age=%{customdata[1]}<br>Squad=%{customdata[2]}<br>Comp=%{customdata[3]}<extra></extra>",
         "legendgroup": "0",
         "marker": {
          "color": "#ab63fa",
          "symbol": "circle"
         },
         "mode": "markers",
         "name": "0",
         "orientation": "v",
         "showlegend": true,
         "type": "scatter",
         "x": [
          19.971378326416016,
          27.965787887573242,
          3.4704227447509766,
          2.0365021228790283,
          16.784351348876953,
          18.200448989868164,
          19.259435653686523,
          7.279727458953857,
          17.75819969177246,
          12.59370231628418,
          17.556686401367188,
          16.65545654296875,
          18.270666122436523,
          13.21456527709961,
          25.175907135009766,
          11.195250511169434,
          14.716723442077637,
          11.363913536071777,
          27.18174934387207,
          8.827794075012207,
          14.298013687133789,
          7.95276403427124,
          0.03774333745241165,
          8.539538383483887,
          6.0578813552856445,
          0.393627405166626,
          10.879671096801758,
          -0.6923969984054565,
          -0.2729458510875702,
          0.4919712543487549,
          15.679034233093262
         ],
         "xaxis": "x",
         "y": [
          3.8484199047088623,
          -1.8573249578475952,
          4.249932289123535,
          5.704751014709473,
          5.857959747314453,
          5.334366798400879,
          -4.906304836273193,
          9.736469268798828,
          10.854741096496582,
          -6.4038004875183105,
          -6.490211009979248,
          -0.6597039699554443,
          11.805069923400879,
          3.3031787872314453,
          0.7616450786590576,
          5.495003700256348,
          -2.118814706802368,
          4.148832321166992,
          -0.9979124665260315,
          -1.6570464372634888,
          -3.2964134216308594,
          -2.712390184402466,
          -2.0285613536834717,
          -6.0636091232299805,
          -2.2486345767974854,
          5.887767314910889,
          -5.5011773109436035,
          -3.2700421810150146,
          4.782453536987305,
          0.76083904504776,
          7.335429668426514
         ],
         "yaxis": "y"
        }
       ],
       "layout": {
        "height": 670,
        "legend": {
         "title": {
          "text": "color"
         },
         "tracegroupgap": 0
        },
        "showlegend": false,
        "template": {
         "data": {
          "bar": [
           {
            "error_x": {
             "color": "#2a3f5f"
            },
            "error_y": {
             "color": "#2a3f5f"
            },
            "marker": {
             "line": {
              "color": "#E5ECF6",
              "width": 0.5
             },
             "pattern": {
              "fillmode": "overlay",
              "size": 10,
              "solidity": 0.2
             }
            },
            "type": "bar"
           }
          ],
          "barpolar": [
           {
            "marker": {
             "line": {
              "color": "#E5ECF6",
              "width": 0.5
             },
             "pattern": {
              "fillmode": "overlay",
              "size": 10,
              "solidity": 0.2
             }
            },
            "type": "barpolar"
           }
          ],
          "carpet": [
           {
            "aaxis": {
             "endlinecolor": "#2a3f5f",
             "gridcolor": "white",
             "linecolor": "white",
             "minorgridcolor": "white",
             "startlinecolor": "#2a3f5f"
            },
            "baxis": {
             "endlinecolor": "#2a3f5f",
             "gridcolor": "white",
             "linecolor": "white",
             "minorgridcolor": "white",
             "startlinecolor": "#2a3f5f"
            },
            "type": "carpet"
           }
          ],
          "choropleth": [
           {
            "colorbar": {
             "outlinewidth": 0,
             "ticks": ""
            },
            "type": "choropleth"
           }
          ],
          "contour": [
           {
            "colorbar": {
             "outlinewidth": 0,
             "ticks": ""
            },
            "colorscale": [
             [
              0,
              "#0d0887"
             ],
             [
              0.1111111111111111,
              "#46039f"
             ],
             [
              0.2222222222222222,
              "#7201a8"
             ],
             [
              0.3333333333333333,
              "#9c179e"
             ],
             [
              0.4444444444444444,
              "#bd3786"
             ],
             [
              0.5555555555555556,
              "#d8576b"
             ],
             [
              0.6666666666666666,
              "#ed7953"
             ],
             [
              0.7777777777777778,
              "#fb9f3a"
             ],
             [
              0.8888888888888888,
              "#fdca26"
             ],
             [
              1,
              "#f0f921"
             ]
            ],
            "type": "contour"
           }
          ],
          "contourcarpet": [
           {
            "colorbar": {
             "outlinewidth": 0,
             "ticks": ""
            },
            "type": "contourcarpet"
           }
          ],
          "heatmap": [
           {
            "colorbar": {
             "outlinewidth": 0,
             "ticks": ""
            },
            "colorscale": [
             [
              0,
              "#0d0887"
             ],
             [
              0.1111111111111111,
              "#46039f"
             ],
             [
              0.2222222222222222,
              "#7201a8"
             ],
             [
              0.3333333333333333,
              "#9c179e"
             ],
             [
              0.4444444444444444,
              "#bd3786"
             ],
             [
              0.5555555555555556,
              "#d8576b"
             ],
             [
              0.6666666666666666,
              "#ed7953"
             ],
             [
              0.7777777777777778,
              "#fb9f3a"
             ],
             [
              0.8888888888888888,
              "#fdca26"
             ],
             [
              1,
              "#f0f921"
             ]
            ],
            "type": "heatmap"
           }
          ],
          "heatmapgl": [
           {
            "colorbar": {
             "outlinewidth": 0,
             "ticks": ""
            },
            "colorscale": [
             [
              0,
              "#0d0887"
             ],
             [
              0.1111111111111111,
              "#46039f"
             ],
             [
              0.2222222222222222,
              "#7201a8"
             ],
             [
              0.3333333333333333,
              "#9c179e"
             ],
             [
              0.4444444444444444,
              "#bd3786"
             ],
             [
              0.5555555555555556,
              "#d8576b"
             ],
             [
              0.6666666666666666,
              "#ed7953"
             ],
             [
              0.7777777777777778,
              "#fb9f3a"
             ],
             [
              0.8888888888888888,
              "#fdca26"
             ],
             [
              1,
              "#f0f921"
             ]
            ],
            "type": "heatmapgl"
           }
          ],
          "histogram": [
           {
            "marker": {
             "pattern": {
              "fillmode": "overlay",
              "size": 10,
              "solidity": 0.2
             }
            },
            "type": "histogram"
           }
          ],
          "histogram2d": [
           {
            "colorbar": {
             "outlinewidth": 0,
             "ticks": ""
            },
            "colorscale": [
             [
              0,
              "#0d0887"
             ],
             [
              0.1111111111111111,
              "#46039f"
             ],
             [
              0.2222222222222222,
              "#7201a8"
             ],
             [
              0.3333333333333333,
              "#9c179e"
             ],
             [
              0.4444444444444444,
              "#bd3786"
             ],
             [
              0.5555555555555556,
              "#d8576b"
             ],
             [
              0.6666666666666666,
              "#ed7953"
             ],
             [
              0.7777777777777778,
              "#fb9f3a"
             ],
             [
              0.8888888888888888,
              "#fdca26"
             ],
             [
              1,
              "#f0f921"
             ]
            ],
            "type": "histogram2d"
           }
          ],
          "histogram2dcontour": [
           {
            "colorbar": {
             "outlinewidth": 0,
             "ticks": ""
            },
            "colorscale": [
             [
              0,
              "#0d0887"
             ],
             [
              0.1111111111111111,
              "#46039f"
             ],
             [
              0.2222222222222222,
              "#7201a8"
             ],
             [
              0.3333333333333333,
              "#9c179e"
             ],
             [
              0.4444444444444444,
              "#bd3786"
             ],
             [
              0.5555555555555556,
              "#d8576b"
             ],
             [
              0.6666666666666666,
              "#ed7953"
             ],
             [
              0.7777777777777778,
              "#fb9f3a"
             ],
             [
              0.8888888888888888,
              "#fdca26"
             ],
             [
              1,
              "#f0f921"
             ]
            ],
            "type": "histogram2dcontour"
           }
          ],
          "mesh3d": [
           {
            "colorbar": {
             "outlinewidth": 0,
             "ticks": ""
            },
            "type": "mesh3d"
           }
          ],
          "parcoords": [
           {
            "line": {
             "colorbar": {
              "outlinewidth": 0,
              "ticks": ""
             }
            },
            "type": "parcoords"
           }
          ],
          "pie": [
           {
            "automargin": true,
            "type": "pie"
           }
          ],
          "scatter": [
           {
            "fillpattern": {
             "fillmode": "overlay",
             "size": 10,
             "solidity": 0.2
            },
            "type": "scatter"
           }
          ],
          "scatter3d": [
           {
            "line": {
             "colorbar": {
              "outlinewidth": 0,
              "ticks": ""
             }
            },
            "marker": {
             "colorbar": {
              "outlinewidth": 0,
              "ticks": ""
             }
            },
            "type": "scatter3d"
           }
          ],
          "scattercarpet": [
           {
            "marker": {
             "colorbar": {
              "outlinewidth": 0,
              "ticks": ""
             }
            },
            "type": "scattercarpet"
           }
          ],
          "scattergeo": [
           {
            "marker": {
             "colorbar": {
              "outlinewidth": 0,
              "ticks": ""
             }
            },
            "type": "scattergeo"
           }
          ],
          "scattergl": [
           {
            "marker": {
             "colorbar": {
              "outlinewidth": 0,
              "ticks": ""
             }
            },
            "type": "scattergl"
           }
          ],
          "scattermapbox": [
           {
            "marker": {
             "colorbar": {
              "outlinewidth": 0,
              "ticks": ""
             }
            },
            "type": "scattermapbox"
           }
          ],
          "scatterpolar": [
           {
            "marker": {
             "colorbar": {
              "outlinewidth": 0,
              "ticks": ""
             }
            },
            "type": "scatterpolar"
           }
          ],
          "scatterpolargl": [
           {
            "marker": {
             "colorbar": {
              "outlinewidth": 0,
              "ticks": ""
             }
            },
            "type": "scatterpolargl"
           }
          ],
          "scatterternary": [
           {
            "marker": {
             "colorbar": {
              "outlinewidth": 0,
              "ticks": ""
             }
            },
            "type": "scatterternary"
           }
          ],
          "surface": [
           {
            "colorbar": {
             "outlinewidth": 0,
             "ticks": ""
            },
            "colorscale": [
             [
              0,
              "#0d0887"
             ],
             [
              0.1111111111111111,
              "#46039f"
             ],
             [
              0.2222222222222222,
              "#7201a8"
             ],
             [
              0.3333333333333333,
              "#9c179e"
             ],
             [
              0.4444444444444444,
              "#bd3786"
             ],
             [
              0.5555555555555556,
              "#d8576b"
             ],
             [
              0.6666666666666666,
              "#ed7953"
             ],
             [
              0.7777777777777778,
              "#fb9f3a"
             ],
             [
              0.8888888888888888,
              "#fdca26"
             ],
             [
              1,
              "#f0f921"
             ]
            ],
            "type": "surface"
           }
          ],
          "table": [
           {
            "cells": {
             "fill": {
              "color": "#EBF0F8"
             },
             "line": {
              "color": "white"
             }
            },
            "header": {
             "fill": {
              "color": "#C8D4E3"
             },
             "line": {
              "color": "white"
             }
            },
            "type": "table"
           }
          ]
         },
         "layout": {
          "annotationdefaults": {
           "arrowcolor": "#2a3f5f",
           "arrowhead": 0,
           "arrowwidth": 1
          },
          "autotypenumbers": "strict",
          "coloraxis": {
           "colorbar": {
            "outlinewidth": 0,
            "ticks": ""
           }
          },
          "colorscale": {
           "diverging": [
            [
             0,
             "#8e0152"
            ],
            [
             0.1,
             "#c51b7d"
            ],
            [
             0.2,
             "#de77ae"
            ],
            [
             0.3,
             "#f1b6da"
            ],
            [
             0.4,
             "#fde0ef"
            ],
            [
             0.5,
             "#f7f7f7"
            ],
            [
             0.6,
             "#e6f5d0"
            ],
            [
             0.7,
             "#b8e186"
            ],
            [
             0.8,
             "#7fbc41"
            ],
            [
             0.9,
             "#4d9221"
            ],
            [
             1,
             "#276419"
            ]
           ],
           "sequential": [
            [
             0,
             "#0d0887"
            ],
            [
             0.1111111111111111,
             "#46039f"
            ],
            [
             0.2222222222222222,
             "#7201a8"
            ],
            [
             0.3333333333333333,
             "#9c179e"
            ],
            [
             0.4444444444444444,
             "#bd3786"
            ],
            [
             0.5555555555555556,
             "#d8576b"
            ],
            [
             0.6666666666666666,
             "#ed7953"
            ],
            [
             0.7777777777777778,
             "#fb9f3a"
            ],
            [
             0.8888888888888888,
             "#fdca26"
            ],
            [
             1,
             "#f0f921"
            ]
           ],
           "sequentialminus": [
            [
             0,
             "#0d0887"
            ],
            [
             0.1111111111111111,
             "#46039f"
            ],
            [
             0.2222222222222222,
             "#7201a8"
            ],
            [
             0.3333333333333333,
             "#9c179e"
            ],
            [
             0.4444444444444444,
             "#bd3786"
            ],
            [
             0.5555555555555556,
             "#d8576b"
            ],
            [
             0.6666666666666666,
             "#ed7953"
            ],
            [
             0.7777777777777778,
             "#fb9f3a"
            ],
            [
             0.8888888888888888,
             "#fdca26"
            ],
            [
             1,
             "#f0f921"
            ]
           ]
          },
          "colorway": [
           "#636efa",
           "#EF553B",
           "#00cc96",
           "#ab63fa",
           "#FFA15A",
           "#19d3f3",
           "#FF6692",
           "#B6E880",
           "#FF97FF",
           "#FECB52"
          ],
          "font": {
           "color": "#2a3f5f"
          },
          "geo": {
           "bgcolor": "white",
           "lakecolor": "white",
           "landcolor": "#E5ECF6",
           "showlakes": true,
           "showland": true,
           "subunitcolor": "white"
          },
          "hoverlabel": {
           "align": "left"
          },
          "hovermode": "closest",
          "mapbox": {
           "style": "light"
          },
          "paper_bgcolor": "white",
          "plot_bgcolor": "#E5ECF6",
          "polar": {
           "angularaxis": {
            "gridcolor": "white",
            "linecolor": "white",
            "ticks": ""
           },
           "bgcolor": "#E5ECF6",
           "radialaxis": {
            "gridcolor": "white",
            "linecolor": "white",
            "ticks": ""
           }
          },
          "scene": {
           "xaxis": {
            "backgroundcolor": "#E5ECF6",
            "gridcolor": "white",
            "gridwidth": 2,
            "linecolor": "white",
            "showbackground": true,
            "ticks": "",
            "zerolinecolor": "white"
           },
           "yaxis": {
            "backgroundcolor": "#E5ECF6",
            "gridcolor": "white",
            "gridwidth": 2,
            "linecolor": "white",
            "showbackground": true,
            "ticks": "",
            "zerolinecolor": "white"
           },
           "zaxis": {
            "backgroundcolor": "#E5ECF6",
            "gridcolor": "white",
            "gridwidth": 2,
            "linecolor": "white",
            "showbackground": true,
            "ticks": "",
            "zerolinecolor": "white"
           }
          },
          "shapedefaults": {
           "line": {
            "color": "#2a3f5f"
           }
          },
          "ternary": {
           "aaxis": {
            "gridcolor": "white",
            "linecolor": "white",
            "ticks": ""
           },
           "baxis": {
            "gridcolor": "white",
            "linecolor": "white",
            "ticks": ""
           },
           "bgcolor": "#E5ECF6",
           "caxis": {
            "gridcolor": "white",
            "linecolor": "white",
            "ticks": ""
           }
          },
          "title": {
           "x": 0.05
          },
          "xaxis": {
           "automargin": true,
           "gridcolor": "white",
           "linecolor": "white",
           "ticks": "",
           "title": {
            "standoff": 15
           },
           "zerolinecolor": "white",
           "zerolinewidth": 2
          },
          "yaxis": {
           "automargin": true,
           "gridcolor": "white",
           "linecolor": "white",
           "ticks": "",
           "title": {
            "standoff": 15
           },
           "zerolinecolor": "white",
           "zerolinewidth": 2
          }
         }
        },
        "title": {
         "text": "KMeans t-SNE of Goalkeepers (≥15 Matches) from 10 Leagues"
        },
        "width": 1000,
        "xaxis": {
         "anchor": "y",
         "autorange": true,
         "domain": [
          0,
          1
         ],
         "range": [
          -30.137349304550874,
          34.4447357028663
         ],
         "title": {
          "text": "t-SNE 1"
         },
         "type": "linear"
        },
        "yaxis": {
         "anchor": "x",
         "autorange": true,
         "domain": [
          0,
          1
         ],
         "range": [
          -34.37517999365255,
          32.34788774206564
         ],
         "title": {
          "text": "t-SNE 2"
         },
         "type": "linear"
        }
       }
      },
      "image/png": "[encoded data removed]",
      "text/html": [
       "<div>                            <div id=\"b0be8865-7fa9-4057-b7c2-9dd59059295d\" class=\"plotly-graph-div\" style=\"height:670px; width:1000px;\"></div>            <script type=\"text/javascript\">                require([\"plotly\"], function(Plotly) {                    window.PLOTLYENV=window.PLOTLYENV || {};                                    if (document.getElementById(\"b0be8865-7fa9-4057-b7c2-9dd59059295d\")) {                    Plotly.newPlot(                        \"b0be8865-7fa9-4057-b7c2-9dd59059295d\",                        [{\"customdata\":[[\"Kepa Arrizabalaga\",30,\"Bournemouth\",\"Premier League\"],[\"Marcin Bulka\",25,\"Nice\",\"Ligue 1\"],[\"Marco Carnesecchi\",24,\"Atalanta\",\"Serie A\"],[\"Lucas Chevalier\",23,\"Lille\",\"Ligue 1\"],[\"Thibaut Courtois\",32,\"Real Madrid\",\"La Liga\"],[\"Gianluigi Donnarumma\",25,\"Paris S-G\",\"Ligue 1\"],[\"Ederson\",31,\"Manchester City\",\"Premier League\"],[\"Paulo Gazzaniga\",33,\"Girona\",\"La Liga\"],[\"David de Gea\",34,\"Fiorentina\",\"Serie A\"],[\"Vicente Guaita\",38,\"Celta Vigo\",\"La Liga\"],[\"P\\u00e9ter Gul\\u00e1csi\",34,\"RB Leipzig\",\"Bundesliga\"],[\"Luk\\u00e1\\u0161 Hr\\u00e1deck\\u00fd\",35,\"Leverkusen\",\"Bundesliga\"],[\"Gregor Kobel\",27,\"Dortmund\",\"Bundesliga\"],[\"Bernd Leno\",32,\"Fulham\",\"Premier League\"],[\"Mike Maignan\",29,\"Milan\",\"Serie A\"],[\"Steve Mandanda\",39,\"Rennes\",\"Ligue 1\"],[\"Emiliano Mart\\u00ednez\",32,\"Aston Villa\",\"Premier League\"],[\"Alex Meret\",27,\"Napoli\",\"Serie A\"],[\"Manuel Neuer\",38,\"Bayern Munich\",\"Bundesliga\"],[\"Alexander N\\u00fcbel\",28,\"Stuttgart\",\"Bundesliga\"],[\"Lucas Perri\",27,\"Lyon\",\"Ligue 1\"],[\"Nick Pope\",32,\"Newcastle Utd\",\"Premier League\"],[\"Ivan Provedel\",30,\"Lazio\",\"Serie A\"],[\"Guillaume Restes\",19,\"Toulouse\",\"Ligue 1\"],[\"Ger\\u00f3nimo Rulli\",32,\"Marseille\",\"Ligue 1\"],[\"Robert S\\u00e1nchez\",27,\"Chelsea\",\"Premier League\"],[\"Rui Silva\",30,\"Betis\",\"La Liga\"],[\"Lukasz Skorupski\",33,\"Bologna\",\"Serie A\"],[\"Yann Sommer\",36,\"Inter\",\"Serie A\"],[\"Mile Svilar\",25,\"Roma\",\"Serie A\"],[\"Bart Verbruggen\",22,\"Brighton\",\"Premier League\"],[\"Michael Zetterer\",29,\"Werder Bremen\",\"Bundesliga\"],[\"Seny Dieng\",30,\"Middlesbrough\",\"EFL Championship\"],[\"Angus Gunn\",29,\"Norwich City\",\"EFL Championship\"],[\"Illan Meslier\",24,\"Leeds United\",\"EFL Championship\"],[\"Alex Palmer\",28,\"West Brom\",\"EFL Championship\"],[\"Drake Callender\",26,\"Inter Miami\",\"MLS\"],[\"Roman Celentano\",23,\"FC Cincinnati\",\"MLS\"],[\"Steve Clark\",37,\"Houston Dynamo\",\"MLS\"],[\"Matt Freese\",25,\"NYCFC\",\"MLS\"],[\"Pedro Gallese\",33,\"Orlando City\",\"MLS\"],[\"Kristijan Kahlina\",31,\"Charlotte\",\"MLS\"],[\"Zac MacMath\",32,\"Real Salt Lake\",\"MLS\"],[\"Maarten Paes\",25,\"FC Dallas\",\"MLS\"],[\"Patrick Schulte\",22,\"Columbus Crew\",\"MLS\"],[\"Jonathan Sirois\",22,\"CF Montr\\u00e9al\",\"MLS\"],[\"Anderson\",25,\"Cruzeiro\",\"Campeonato Brasileiro S\\u00e9rie A\"],[\"\\u00c9verson\",33,\"Atl\\u00e9tico Mineiro\",\"Campeonato Brasileiro S\\u00e9rie A\"],[\"Marcos Felipe\",27,\"Bahia\",\"Campeonato Brasileiro S\\u00e9rie A\"],[\"Rafael Pires\",34,\"S\\u00e3o Paulo\",\"Campeonato Brasileiro S\\u00e9rie A\"],[\"Sergio Rochet\",30,\"Internacional\",\"Campeonato Brasileiro S\\u00e9rie A\"],[\"Cleiton Schwengber\",26,\"Red Bull Bragantino\",\"Campeonato Brasileiro S\\u00e9rie A\"],[\"Sebastiano Desplanches\",21,\"Palermo\",\"Serie B\"],[\"Marco Festa\",32,\"Mantova\",\"Serie B\"],[\"Andrea Fulignati\",30,\"Cremonese\",\"Serie B\"],[\"Luigi Sepe\",33,\"Salernitana\",\"Serie B\"]],\"hovertemplate\":\"color=1\\u003cbr\\u003et-SNE 1=%{x}\\u003cbr\\u003et-SNE 2=%{y}\\u003cbr\\u003ePlayer=%{customdata[0]}\\u003cbr\\u003eAge=%{customdata[1]}\\u003cbr\\u003eSquad=%{customdata[2]}\\u003cbr\\u003eComp=%{customdata[3]}\\u003cextra\\u003e\\u003c\\u002fextra\\u003e\",\"legendgroup\":\"1\",\"marker\":{\"color\":\"#636efa\",\"symbol\":\"circle\"},\"mode\":\"markers\",\"name\":\"1\",\"orientation\":\"v\",\"showlegend\":true,\"x\":[-4.646841526031494,-1.6635541915893555,-11.688865661621094,-15.082825660705566,-19.84874153137207,-17.40184211730957,-14.179469108581543,8.168176651000977,-2.378385543823242,-4.087690830230713,-9.661431312561035,2.1616439819335938,5.459480285644531,3.250275135040283,6.439839839935303,11.129813194274902,8.502254486083984,-18.882217407226562,-15.834952354431152,5.615507125854492,-5.245874404907227,0.9109048843383789,10.182785034179688,11.538897514343262,5.472555160522461,-7.429152488708496,-11.276220321655273,11.145610809326172,-18.121448516845703,-8.630741119384766,5.571742534637451,6.114033222198486,-21.217687606811523,1.6502950191497803,-21.32265853881836,-14.969720840454102,-1.1379698514938354,-5.633830547332764,-14.75002384185791,0.09083174169063568,-3.850383758544922,-1.612271785736084,-9.327962875366211,-2.0745949745178223,-15.699596405029297,1.8928481340408325,-10.452451705932617,-4.83688497543335,-8.399075508117676,-7.106916904449463,-13.586760520935059,-1.2641886472702026,-8.515924453735352,-13.003683090209961,-13.972901344299316,-7.342076301574707],\"xaxis\":\"x\",\"y\":[5.388914108276367,7.342910289764404,11.68846321105957,20.69866943359375,17.02630615234375,16.291948318481445,25.524580001831055,27.034509658813477,16.536041259765625,12.120360374450684,7.707662582397461,17.99994659423828,18.951467514038086,19.089292526245117,26.11481285095215,22.505733489990234,15.115922927856445,23.80362319946289,26.89340591430664,23.653493881225586,7.51444673538208,12.652732849121094,18.320114135742188,23.927370071411133,27.453250885009766,25.028688430786133,13.687458992004395,20.23114776611328,22.25354766845703,12.675187110900879,20.092126846313477,17.12862205505371,18.428863525390625,20.749780654907227,15.186345100402832,9.735223770141602,10.048660278320312,11.268756866455078,17.432144165039062,10.558720588684082,18.936006546020508,28.5010986328125,21.81849479675293,23.429975509643555,18.45296287536621,10.170219421386719,6.288609027862549,18.29340934753418,23.351083755493164,16.432931900024414,10.142983436584473,27.462379455566406,15.24974250793457,17.31095314025879,21.469449996948242,11.228889465332031],\"yaxis\":\"y\",\"type\":\"scatter\"},{\"customdata\":[[\"Noah Atubolu\",22,\"Freiburg\",\"Bundesliga\"],[\"Oliver Baumann\",34,\"Hoffenheim\",\"Bundesliga\"],[\"Jasper Cillessen\",35,\"Las Palmas\",\"La Liga\"],[\"Arthur Desmas\",30,\"Le Havre\",\"Ligue 1\"],[\"Yehvann Diouf\",25,\"Reims\",\"Ligue 1\"],[\"Wladimiro Falcone\",29,\"Lecce\",\"Serie A\"],[\"Mark Flekken\",31,\"Brentford\",\"Premier League\"],[\"Kamil Grabara\",26,\"Wolfsburg\",\"Bundesliga\"],[\"Dominik Greif\",27,\"Mallorca\",\"La Liga\"],[\"Dean Henderson\",27,\"Crystal Palace\",\"Premier League\"],[\"Mads Hermansen\",24,\"Leicester City\",\"Premier League\"],[\"Karl Jakob Hein\",22,\"Valladolid\",\"La Liga\"],[\"Nediljko Labrovic\",25,\"Augsburg\",\"Bundesliga\"],[\"Gautier Larsonneur\",27,\"Saint-\\u00c9tienne\",\"Ligue 1\"],[\"Benjamin Lecomte\",33,\"Montpellier\",\"Ligue 1\"],[\"Giorgi Mamardashvili\",24,\"Valencia\",\"La Liga\"],[\"Kevin M\\u00fcller\",33,\"Heidenheim\",\"Bundesliga\"],[\"Arijanet Muric\",26,\"Ipswich Town\",\"Premier League\"],[\"Moritz Nicolas\",27,\"Gladbach\",\"Bundesliga\"],[\"\\u00d0orde Petrovic\",25,\"Strasbourg\",\"Ligue 1\"],[\"Jordan Pickford\",30,\"Everton\",\"Premier League\"],[\"Aaron Ramsdale\",26,\"Southampton\",\"Premier League\"],[\"Jos\\u00e9 S\\u00e1\",32,\"Wolves\",\"Premier League\"],[\"Filip Stankovic\",22,\"Venezia\",\"Serie A\"],[\"Zion Suzuki\",22,\"Parma\",\"Serie A\"],[\"Stefano Turati\",23,\"Monza\",\"Serie A\"],[\"Timon Weiner\",26,\"Holstein Kiel\",\"Bundesliga\"],[\"Daniel Bachmann\",30,\"Watford\",\"EFL Championship\"],[\"Jamie Cumming\",25,\"Oxford United\",\"EFL Championship\"],[\"Daniel Grimshaw\",27,\"Plymouth Argyle\",\"EFL Championship\"],[\"Thomas Kaminski\",32,\"Luton Town\",\"EFL Championship\"],[\"Ivor Pandur\",24,\"Hull City\",\"EFL Championship\"],[\"Roman B\\u00fcrki\",33,\"St. Louis\",\"MLS\"],[\"Maxime Cr\\u00e9peau\",29,\"Portland Timbers\",\"MLS\"],[\"Brad Guzan\",39,\"Atlanta Utd\",\"MLS\"],[\"Alja\\u017e Ivacic\",30,\"NE Revolution\",\"MLS\"],[\"John McCarthy\",31,\"LA Galaxy\",\"MLS\"],[\"Tim Melia\",37,\"Sporting KC\",\"MLS\"],[\"Dayne St. Clair\",26,\"Minnesota Utd\",\"MLS\"],[\"William Yarbrough\",34,\"SJ Earthquakes\",\"MLS\"],[\"Michele Cerofolini\",26,\"Frosinone\",\"Serie B\"],[\"Mirko Pigliacelli\",31,\"Catanzaro\",\"Serie B\"]],\"hovertemplate\":\"color=3\\u003cbr\\u003et-SNE 1=%{x}\\u003cbr\\u003et-SNE 2=%{y}\\u003cbr\\u003ePlayer=%{customdata[0]}\\u003cbr\\u003eAge=%{customdata[1]}\\u003cbr\\u003eSquad=%{customdata[2]}\\u003cbr\\u003eComp=%{customdata[3]}\\u003cextra\\u003e\\u003c\\u002fextra\\u003e\",\"legendgroup\":\"3\",\"marker\":{\"color\":\"#EF553B\",\"symbol\":\"circle\"},\"mode\":\"markers\",\"name\":\"3\",\"orientation\":\"v\",\"showlegend\":true,\"x\":[8.511038780212402,16.498632431030273,4.015317916870117,13.540688514709473,6.4760894775390625,2.1479201316833496,3.8008012771606445,16.153839111328125,2.3884713649749756,12.688036918640137,29.963237762451172,25.363914489746094,24.906761169433594,6.536207675933838,26.370141983032227,15.918249130249023,11.708869934082031,30.927318572998047,0.1575450450181961,2.046788454055786,9.99193000793457,21.999706268310547,19.442455291748047,5.168951511383057,29.97188949584961,14.105783462524414,23.321306228637695,10.921624183654785,7.179107189178467,19.6554012298584,13.32385540008545,-1.9798672199249268,7.753223419189453,24.801067352294922,11.664267539978027,9.141444206237793,-1.3934623003005981,16.879745483398438,13.61890983581543,23.543315887451172,1.1075042486190796,-3.4432973861694336],\"xaxis\":\"x\",\"y\":[-21.559707641601562,-17.353736877441406,-14.472496032714844,-13.629197120666504,-13.794057846069336,-10.216094970703125,-21.09317398071289,-19.635440826416016,-8.722783088684082,-7.785531520843506,-13.200879096984863,-11.888713836669922,-13.114904403686523,-15.55911922454834,-14.557547569274902,-7.322281360626221,-13.306946754455566,-10.021275520324707,-22.65564727783203,-21.92015266418457,-25.009496688842773,-18.413681030273438,-8.177425384521484,-16.727680206298828,-11.358477592468262,-19.50537872314453,-16.215660095214844,-8.61221981048584,-11.878870964050293,-19.950180053710938,-17.79388427734375,-30.528390884399414,-8.43779182434082,-9.98849105834961,-20.715129852294922,-15.946663856506348,-14.439826011657715,-9.75829792022705,-9.250833511352539,-14.801451683044434,-11.287034034729004,-23.275049209594727],\"yaxis\":\"y\",\"type\":\"scatter\"},{\"customdata\":[[\"Augusto Batalla\",28,\"Rayo Vallecano\",\"La Liga\"],[\"Marco Bizot\",33,\"Brest\",\"Ligue 1\"],[\"Diego Conde\",26,\"Villarreal\",\"La Liga\"],[\"Michele Di Gregorio\",27,\"Juventus\",\"Serie A\"],[\"Nicola Leali\",31,\"Genoa\",\"Serie A\"],[\"Vanja Milinkovic-Savic\",27,\"Torino\",\"Serie A\"],[\"Lorenzo Montip\\u00f2\",28,\"Hellas Verona\",\"Serie A\"],[\"Jan Oblak\",32,\"Atl\\u00e9tico Madrid\",\"La Liga\"],[\"\\u00c1lex Remiro\",29,\"Real Sociedad\",\"La Liga\"],[\"Frederik R\\u00f8nnow\",32,\"Union Berlin\",\"Bundesliga\"],[\"Brice Samba\",30,\"Lens\",\"Ligue 1\"],[\"Matz Sels\",32,\"Nott'ham Forest\",\"Premier League\"],[\"Antonio Sivera\",28,\"Alav\\u00e9s\",\"La Liga\"],[\"David Soria\",31,\"Getafe\",\"La Liga\"],[\"Nikola Vasilj\",29,\"St. Pauli\",\"Bundesliga\"],[\"Devis V\\u00e1squez\",26,\"Empoli\",\"Serie A\"],[\"Michael Cooper\",25,\"Sheffield Utd\",\"EFL Championship\"],[\"Oliver Dovin\",22,\"Coventry City\",\"EFL Championship\"],[\"Paul Nardi\",30,\"QPR\",\"EFL Championship\"],[\"Anthony Patterson\",24,\"Sunderland\",\"EFL Championship\"],[\"Aynsley Pears\",26,\"Blackburn\",\"EFL Championship\"],[\"James Trafford\",22,\"Burnley\",\"EFL Championship\"],[\"Stefan Frei\",37,\"Seattle Sounders FC\",\"MLS\"],[\"Lucas Arcanjo\",25,\"Vit\\u00f3ria\",\"Campeonato Brasileiro S\\u00e9rie A\"],[\"C\\u00e1ssio\",36,\"Cruzeiro\",\"Campeonato Brasileiro S\\u00e9rie A\"],[\"F\\u00e1bio\",43,\"Fluminense\",\"Campeonato Brasileiro S\\u00e9rie A\"],[\"Gustavo\",30,\"Crici\\u00fama\",\"Campeonato Brasileiro S\\u00e9rie A\"],[\"L\\u00e9o Jardim\",28,\"Vasco da Gama\",\"Campeonato Brasileiro S\\u00e9rie A\"],[\"John\",27,\"Botafogo (RJ)\",\"Campeonato Brasileiro S\\u00e9rie A\"],[\"Agust\\u00edn Marches\\u00edn\",35,\"Gr\\u00eamio\",\"Campeonato Brasileiro S\\u00e9rie A\"],[\"Mycael\",19,\"Ath Paranaense\",\"Campeonato Brasileiro S\\u00e9rie A\"],[\"Jo\\u00e3o Ricardo Riedi\",35,\"Fortaleza\",\"Campeonato Brasileiro S\\u00e9rie A\"],[\"Ronaldo\",27,\"Atl Goianiense\",\"Campeonato Brasileiro S\\u00e9rie A\"],[\"Hugo Souza\",25,\"Corinthians\",\"Campeonato Brasileiro S\\u00e9rie A\"],[\"Walter\",36,\"Cuiab\\u00e1\",\"Campeonato Brasileiro S\\u00e9rie A\"],[\"W\\u00e9verton\",36,\"Palmeiras\",\"Campeonato Brasileiro S\\u00e9rie A\"],[\"Francesco Bardi\",33,\"Reggiana\",\"Serie B\"],[\"Marco Bleve\",29,\"Carrarese\",\"Serie B\"],[\"Riccardo Gagno\",27,\"Modena\",\"Serie B\"],[\"Stefano Gori\",28,\"Spezia\",\"Serie B\"],[\"Elhan Kastrati\",28,\"Cittadella\",\"Serie B\"],[\"Luca Lezzerini\",29,\"Brescia\",\"Serie B\"],[\"Horatiu Moldovan\",27,\"Sassuolo\",\"Serie B\"],[\"Giacomo Poluzzi\",36,\"S\\u00fcdtirol\",\"Serie B\"],[\"Boris Radunovic\",28,\"Bari\",\"Serie B\"],[\"Adrian \\u0160emper\",27,\"Pisa\",\"Serie B\"],[\"Demba Thiam\",26,\"Juve Stabia\",\"Serie B\"]],\"hovertemplate\":\"color=2\\u003cbr\\u003et-SNE 1=%{x}\\u003cbr\\u003et-SNE 2=%{y}\\u003cbr\\u003ePlayer=%{customdata[0]}\\u003cbr\\u003eAge=%{customdata[1]}\\u003cbr\\u003eSquad=%{customdata[2]}\\u003cbr\\u003eComp=%{customdata[3]}\\u003cextra\\u003e\\u003c\\u002fextra\\u003e\",\"legendgroup\":\"2\",\"marker\":{\"color\":\"#00cc96\",\"symbol\":\"circle\"},\"mode\":\"markers\",\"name\":\"2\",\"orientation\":\"v\",\"showlegend\":true,\"x\":[-10.658764839172363,-13.469757080078125,-5.5886945724487305,-20.28603172302246,-18.63676643371582,-11.404548645019531,-11.840167999267578,-23.422426223754883,-25.397722244262695,-15.409529685974121,-24.862384796142578,-22.774578094482422,-18.986038208007812,-22.924936294555664,-12.819921493530273,-13.21540355682373,-23.42881202697754,-6.438203811645508,-4.917295455932617,-21.755626678466797,-21.927749633789062,-25.54507064819336,-18.850013732910156,-3.9927690029144287,-10.640141487121582,-11.879694938659668,-5.181583404541016,-3.1694092750549316,-24.21613883972168,-8.322134017944336,-7.078244686126709,-6.918038845062256,-11.80938720703125,-12.995133399963379,-5.640469551086426,-16.290115356445312,-18.094751358032227,-23.250661849975586,-12.706757545471191,-26.619932174682617,-14.677268028259277,-1.9564979076385498,-17.339237213134766,-13.284381866455078,-14.53428840637207,-20.08612823486328,-13.815542221069336],\"xaxis\":\"x\",\"y\":[-15.267849922180176,-24.740713119506836,-4.630190372467041,5.864315986633301,-4.015509128570557,-8.01062297821045,-27.30545425415039,7.347601413726807,2.698788642883301,-9.199686050415039,-7.7681169509887695,-16.755138397216797,-17.10626792907715,-17.95388412475586,-8.356782913208008,-19.48593521118164,-5.305022716522217,1.3708922863006592,0.2614828050136566,1.6651151180267334,-0.2643774151802063,-2.4292538166046143,2.3645970821380615,-5.282630443572998,2.802760362625122,3.9381113052368164,-13.086078643798828,-14.067363739013672,4.108634948730469,-14.761698722839355,-10.50182056427002,-16.21022605895996,-14.092469215393066,3.2110671997070312,-14.373649597167969,7.493134498596191,0.8294054269790649,-6.582734107971191,-16.554323196411133,2.2477710247039795,0.7544182538986206,-5.945378303527832,2.9870049953460693,-25.64095687866211,3.5763490200042725,-14.830887794494629,-18.48185920715332],\"yaxis\":\"y\",\"type\":\"scatter\"},{\"customdata\":[[\"Marko Dmitrovic\",33,\"Legan\\u00e9s\",\"La Liga\"],[\"Patrick Drewes\",31,\"Bochum\",\"Bundesliga\"],[\"Yahia Fofana\",24,\"Angers\",\"Ligue 1\"],[\"Joan Garc\\u00eda\",23,\"Espanyol\",\"La Liga\"],[\"Sergio Herrera\",31,\"Osasuna\",\"La Liga\"],[\"Donovan L\\u00e9on\",32,\"Auxerre\",\"Ligue 1\"],[\"Andr\\u00e9 Onana\",28,\"Manchester Utd\",\"Premier League\"],[\"David Raya\",29,\"Arsenal\",\"Premier League\"],[\"Robin Zentner\",30,\"Mainz 05\",\"Bundesliga\"],[\"Jak Alnwick\",31,\"Cardiff City\",\"EFL Championship\"],[\"James Beadle\",20,\"Sheffield Weds\",\"EFL Championship\"],[\"Lukas Jensen\",25,\"Millwall\",\"EFL Championship\"],[\"Viktor Johansson\",26,\"Stoke City\",\"EFL Championship\"],[\"Max O'Leary\",28,\"Bristol City\",\"EFL Championship\"],[\"Nicolas Schmid\",27,\"Portsmouth\",\"EFL Championship\"],[\"Lawrence Vigouroux\",31,\"Swansea City\",\"EFL Championship\"],[\"Jacob Widell Zetterstr\\u00f6m\",26,\"Derby County\",\"EFL Championship\"],[\"Freddie Woodman\",27,\"Preston\",\"EFL Championship\"],[\"Alex Bono\",29,\"D.C. United\",\"MLS\"],[\"Christopher Brady\",19,\"Chicago Fire\",\"MLS\"],[\"Carlos Coronel\",27,\"NY Red Bulls\",\"MLS\"],[\"Sean Johnson\",34,\"Toronto FC\",\"MLS\"],[\"Hugo Lloris\",37,\"LAFC\",\"MLS\"],[\"Oliver Semmle\",25,\"Philadelphia Union\",\"MLS\"],[\"Zack Steffen\",28,\"Colorado Rapids\",\"MLS\"],[\"Brad Stuver\",32,\"Austin\",\"MLS\"],[\"Yohei Takaoka\",27,\"Vancouver W'caps\",\"MLS\"],[\"Joe Willis\",35,\"Nashville SC\",\"MLS\"],[\"Gabriel\",31,\"Juventude\",\"Campeonato Brasileiro S\\u00e9rie A\"],[\"Agust\\u00edn Rossi\",28,\"Flamengo\",\"Campeonato Brasileiro S\\u00e9rie A\"],[\"Alessandro Micai\",31,\"Cosenza\",\"Serie B\"]],\"hovertemplate\":\"color=0\\u003cbr\\u003et-SNE 1=%{x}\\u003cbr\\u003et-SNE 2=%{y}\\u003cbr\\u003ePlayer=%{customdata[0]}\\u003cbr\\u003eAge=%{customdata[1]}\\u003cbr\\u003eSquad=%{customdata[2]}\\u003cbr\\u003eComp=%{customdata[3]}\\u003cextra\\u003e\\u003c\\u002fextra\\u003e\",\"legendgroup\":\"0\",\"marker\":{\"color\":\"#ab63fa\",\"symbol\":\"circle\"},\"mode\":\"markers\",\"name\":\"0\",\"orientation\":\"v\",\"showlegend\":true,\"x\":[19.971378326416016,27.965787887573242,3.4704227447509766,2.0365021228790283,16.784351348876953,18.200448989868164,19.259435653686523,7.279727458953857,17.75819969177246,12.59370231628418,17.556686401367188,16.65545654296875,18.270666122436523,13.21456527709961,25.175907135009766,11.195250511169434,14.716723442077637,11.363913536071777,27.18174934387207,8.827794075012207,14.298013687133789,7.95276403427124,0.03774333745241165,8.539538383483887,6.0578813552856445,0.393627405166626,10.879671096801758,-0.6923969984054565,-0.2729458510875702,0.4919712543487549,15.679034233093262],\"xaxis\":\"x\",\"y\":[3.8484199047088623,-1.8573249578475952,4.249932289123535,5.704751014709473,5.857959747314453,5.334366798400879,-4.906304836273193,9.736469268798828,10.854741096496582,-6.4038004875183105,-6.490211009979248,-0.6597039699554443,11.805069923400879,3.3031787872314453,0.7616450786590576,5.495003700256348,-2.118814706802368,4.148832321166992,-0.9979124665260315,-1.6570464372634888,-3.2964134216308594,-2.712390184402466,-2.0285613536834717,-6.0636091232299805,-2.2486345767974854,5.887767314910889,-5.5011773109436035,-3.2700421810150146,4.782453536987305,0.76083904504776,7.335429668426514],\"yaxis\":\"y\",\"type\":\"scatter\"}],                        {\"template\":{\"data\":{\"histogram2dcontour\":[{\"type\":\"histogram2dcontour\",\"colorbar\":{\"outlinewidth\":0,\"ticks\":\"\"},\"colorscale\":[[0.0,\"#0d0887\"],[0.1111111111111111,\"#46039f\"],[0.2222222222222222,\"#7201a8\"],[0.3333333333333333,\"#9c179e\"],[0.4444444444444444,\"#bd3786\"],[0.5555555555555556,\"#d8576b\"],[0.6666666666666666,\"#ed7953\"],[0.7777777777777778,\"#fb9f3a\"],[0.8888888888888888,\"#fdca26\"],[1.0,\"#f0f921\"]]}],\"choropleth\":[{\"type\":\"choropleth\",\"colorbar\":{\"outlinewidth\":0,\"ticks\":\"\"}}],\"histogram2d\":[{\"type\":\"histogram2d\",\"colorbar\":{\"outlinewidth\":0,\"ticks\":\"\"},\"colorscale\":[[0.0,\"#0d0887\"],[0.1111111111111111,\"#46039f\"],[0.2222222222222222,\"#7201a8\"],[0.3333333333333333,\"#9c179e\"],[0.4444444444444444,\"#bd3786\"],[0.5555555555555556,\"#d8576b\"],[0.6666666666666666,\"#ed7953\"],[0.7777777777777778,\"#fb9f3a\"],[0.8888888888888888,\"#fdca26\"],[1.0,\"#f0f921\"]]}],\"heatmap\":[{\"type\":\"heatmap\",\"colorbar\":{\"outlinewidth\":0,\"ticks\":\"\"},\"colorscale\":[[0.0,\"#0d0887\"],[0.1111111111111111,\"#46039f\"],[0.2222222222222222,\"#7201a8\"],[0.3333333333333333,\"#9c179e\"],[0.4444444444444444,\"#bd3786\"],[0.5555555555555556,\"#d8576b\"],[0.6666666666666666,\"#ed7953\"],[0.7777777777777778,\"#fb9f3a\"],[0.8888888888888888,\"#fdca26\"],[1.0,\"#f0f921\"]]}],\"heatmapgl\":[{\"type\":\"heatmapgl\",\"colorbar\":{\"outlinewidth\":0,\"ticks\":\"\"},\"colorscale\":[[0.0,\"#0d0887\"],[0.1111111111111111,\"#46039f\"],[0.2222222222222222,\"#7201a8\"],[0.3333333333333333,\"#9c179e\"],[0.4444444444444444,\"#bd3786\"],[0.5555555555555556,\"#d8576b\"],[0.6666666666666666,\"#ed7953\"],[0.7777777777777778,\"#fb9f3a\"],[0.8888888888888888,\"#fdca26\"],[1.0,\"#f0f921\"]]}],\"contourcarpet\":[{\"type\":\"contourcarpet\",\"colorbar\":{\"outlinewidth\":0,\"ticks\":\"\"}}],\"contour\":[{\"type\":\"contour\",\"colorbar\":{\"outlinewidth\":0,\"ticks\":\"\"},\"colorscale\":[[0.0,\"#0d0887\"],[0.1111111111111111,\"#46039f\"],[0.2222222222222222,\"#7201a8\"],[0.3333333333333333,\"#9c179e\"],[0.4444444444444444,\"#bd3786\"],[0.5555555555555556,\"#d8576b\"],[0.6666666666666666,\"#ed7953\"],[0.7777777777777778,\"#fb9f3a\"],[0.8888888888888888,\"#fdca26\"],[1.0,\"#f0f921\"]]}],\"surface\":[{\"type\":\"surface\",\"colorbar\":{\"outlinewidth\":0,\"ticks\":\"\"},\"colorscale\":[[0.0,\"#0d0887\"],[0.1111111111111111,\"#46039f\"],[0.2222222222222222,\"#7201a8\"],[0.3333333333333333,\"#9c179e\"],[0.4444444444444444,\"#bd3786\"],[0.5555555555555556,\"#d8576b\"],[0.6666666666666666,\"#ed7953\"],[0.7777777777777778,\"#fb9f3a\"],[0.8888888888888888,\"#fdca26\"],[1.0,\"#f0f921\"]]}],\"mesh3d\":[{\"type\":\"mesh3d\",\"colorbar\":{\"outlinewidth\":0,\"ticks\":\"\"}}],\"scatter\":[{\"fillpattern\":{\"fillmode\":\"overlay\",\"size\":10,\"solidity\":0.2},\"type\":\"scatter\"}],\"parcoords\":[{\"type\":\"parcoords\",\"line\":{\"colorbar\":{\"outlinewidth\":0,\"ticks\":\"\"}}}],\"scatterpolargl\":[{\"type\":\"scatterpolargl\",\"marker\":{\"colorbar\":{\"outlinewidth\":0,\"ticks\":\"\"}}}],\"bar\":[{\"error_x\":{\"color\":\"#2a3f5f\"},\"error_y\":{\"color\":\"#2a3f5f\"},\"marker\":{\"line\":{\"color\":\"#E5ECF6\",\"width\":0.5},\"pattern\":{\"fillmode\":\"overlay\",\"size\":10,\"solidity\":0.2}},\"type\":\"bar\"}],\"scattergeo\":[{\"type\":\"scattergeo\",\"marker\":{\"colorbar\":{\"outlinewidth\":0,\"ticks\":\"\"}}}],\"scatterpolar\":[{\"type\":\"scatterpolar\",\"marker\":{\"colorbar\":{\"outlinewidth\":0,\"ticks\":\"\"}}}],\"histogram\":[{\"marker\":{\"pattern\":{\"fillmode\":\"overlay\",\"size\":10,\"solidity\":0.2}},\"type\":\"histogram\"}],\"scattergl\":[{\"type\":\"scattergl\",\"marker\":{\"colorbar\":{\"outlinewidth\":0,\"ticks\":\"\"}}}],\"scatter3d\":[{\"type\":\"scatter3d\",\"line\":{\"colorbar\":{\"outlinewidth\":0,\"ticks\":\"\"}},\"marker\":{\"colorbar\":{\"outlinewidth\":0,\"ticks\":\"\"}}}],\"scattermapbox\":[{\"type\":\"scattermapbox\",\"marker\":{\"colorbar\":{\"outlinewidth\":0,\"ticks\":\"\"}}}],\"scatterternary\":[{\"type\":\"scatterternary\",\"marker\":{\"colorbar\":{\"outlinewidth\":0,\"ticks\":\"\"}}}],\"scattercarpet\":[{\"type\":\"scattercarpet\",\"marker\":{\"colorbar\":{\"outlinewidth\":0,\"ticks\":\"\"}}}],\"carpet\":[{\"aaxis\":{\"endlinecolor\":\"#2a3f5f\",\"gridcolor\":\"white\",\"linecolor\":\"white\",\"minorgridcolor\":\"white\",\"startlinecolor\":\"#2a3f5f\"},\"baxis\":{\"endlinecolor\":\"#2a3f5f\",\"gridcolor\":\"white\",\"linecolor\":\"white\",\"minorgridcolor\":\"white\",\"startlinecolor\":\"#2a3f5f\"},\"type\":\"carpet\"}],\"table\":[{\"cells\":{\"fill\":{\"color\":\"#EBF0F8\"},\"line\":{\"color\":\"white\"}},\"header\":{\"fill\":{\"color\":\"#C8D4E3\"},\"line\":{\"color\":\"white\"}},\"type\":\"table\"}],\"barpolar\":[{\"marker\":{\"line\":{\"color\":\"#E5ECF6\",\"width\":0.5},\"pattern\":{\"fillmode\":\"overlay\",\"size\":10,\"solidity\":0.2}},\"type\":\"barpolar\"}],\"pie\":[{\"automargin\":true,\"type\":\"pie\"}]},\"layout\":{\"autotypenumbers\":\"strict\",\"colorway\":[\"#636efa\",\"#EF553B\",\"#00cc96\",\"#ab63fa\",\"#FFA15A\",\"#19d3f3\",\"#FF6692\",\"#B6E880\",\"#FF97FF\",\"#FECB52\"],\"font\":{\"color\":\"#2a3f5f\"},\"hovermode\":\"closest\",\"hoverlabel\":{\"align\":\"left\"},\"paper_bgcolor\":\"white\",\"plot_bgcolor\":\"#E5ECF6\",\"polar\":{\"bgcolor\":\"#E5ECF6\",\"angularaxis\":{\"gridcolor\":\"white\",\"linecolor\":\"white\",\"ticks\":\"\"},\"radialaxis\":{\"gridcolor\":\"white\",\"linecolor\":\"white\",\"ticks\":\"\"}},\"ternary\":{\"bgcolor\":\"#E5ECF6\",\"aaxis\":{\"gridcolor\":\"white\",\"linecolor\":\"white\",\"ticks\":\"\"},\"baxis\":{\"gridcolor\":\"white\",\"linecolor\":\"white\",\"ticks\":\"\"},\"caxis\":{\"gridcolor\":\"white\",\"linecolor\":\"white\",\"ticks\":\"\"}},\"coloraxis\":{\"colorbar\":{\"outlinewidth\":0,\"ticks\":\"\"}},\"colorscale\":{\"sequential\":[[0.0,\"#0d0887\"],[0.1111111111111111,\"#46039f\"],[0.2222222222222222,\"#7201a8\"],[0.3333333333333333,\"#9c179e\"],[0.4444444444444444,\"#bd3786\"],[0.5555555555555556,\"#d8576b\"],[0.6666666666666666,\"#ed7953\"],[0.7777777777777778,\"#fb9f3a\"],[0.8888888888888888,\"#fdca26\"],[1.0,\"#f0f921\"]],\"sequentialminus\":[[0.0,\"#0d0887\"],[0.1111111111111111,\"#46039f\"],[0.2222222222222222,\"#7201a8\"],[0.3333333333333333,\"#9c179e\"],[0.4444444444444444,\"#bd3786\"],[0.5555555555555556,\"#d8576b\"],[0.6666666666666666,\"#ed7953\"],[0.7777777777777778,\"#fb9f3a\"],[0.8888888888888888,\"#fdca26\"],[1.0,\"#f0f921\"]],\"diverging\":[[0,\"#8e0152\"],[0.1,\"#c51b7d\"],[0.2,\"#de77ae\"],[0.3,\"#f1b6da\"],[0.4,\"#fde0ef\"],[0.5,\"#f7f7f7\"],[0.6,\"#e6f5d0\"],[0.7,\"#b8e186\"],[0.8,\"#7fbc41\"],[0.9,\"#4d9221\"],[1,\"#276419\"]]},\"xaxis\":{\"gridcolor\":\"white\",\"linecolor\":\"white\",\"ticks\":\"\",\"title\":{\"standoff\":15},\"zerolinecolor\":\"white\",\"automargin\":true,\"zerolinewidth\":2},\"yaxis\":{\"gridcolor\":\"white\",\"linecolor\":\"white\",\"ticks\":\"\",\"title\":{\"standoff\":15},\"zerolinecolor\":\"white\",\"automargin\":true,\"zerolinewidth\":2},\"scene\":{\"xaxis\":{\"backgroundcolor\":\"#E5ECF6\",\"gridcolor\":\"white\",\"linecolor\":\"white\",\"showbackground\":true,\"ticks\":\"\",\"zerolinecolor\":\"white\",\"gridwidth\":2},\"yaxis\":{\"backgroundcolor\":\"#E5ECF6\",\"gridcolor\":\"white\",\"linecolor\":\"white\",\"showbackground\":true,\"ticks\":\"\",\"zerolinecolor\":\"white\",\"gridwidth\":2},\"zaxis\":{\"backgroundcolor\":\"#E5ECF6\",\"gridcolor\":\"white\",\"linecolor\":\"white\",\"showbackground\":true,\"ticks\":\"\",\"zerolinecolor\":\"white\",\"gridwidth\":2}},\"shapedefaults\":{\"line\":{\"color\":\"#2a3f5f\"}},\"annotationdefaults\":{\"arrowcolor\":\"#2a3f5f\",\"arrowhead\":0,\"arrowwidth\":1},\"geo\":{\"bgcolor\":\"white\",\"landcolor\":\"#E5ECF6\",\"subunitcolor\":\"white\",\"showland\":true,\"showlakes\":true,\"lakecolor\":\"white\"},\"title\":{\"x\":0.05},\"mapbox\":{\"style\":\"light\"}}},\"xaxis\":{\"anchor\":\"y\",\"domain\":[0.0,1.0],\"title\":{\"text\":\"t-SNE 1\"}},\"yaxis\":{\"anchor\":\"x\",\"domain\":[0.0,1.0],\"title\":{\"text\":\"t-SNE 2\"}},\"legend\":{\"title\":{\"text\":\"color\"},\"tracegroupgap\":0},\"title\":{\"text\":\"KMeans t-SNE of Goalkeepers (\\u226515 Matches) from 10 Leagues\"},\"height\":670,\"width\":1000,\"showlegend\":false},                        {\"responsive\": true}                    ).then(function(){\n",
       "                            \n",
       "var gd = document.getElementById('b0be8865-7fa9-4057-b7c2-9dd59059295d');\n",
       "var x = new MutationObserver(function (mutations, observer) {{\n",
       "        var display = window.getComputedStyle(gd).display;\n",
       "        if (!display || display === 'none') {{\n",
       "            console.log([gd, 'removed!']);\n",
       "            Plotly.purge(gd);\n",
       "            observer.disconnect();\n",
       "        }}\n",
       "}});\n",
       "\n",
       "// Listen for the removal of the full notebook cells\n",
       "var notebookContainer = gd.closest('#notebook-container');\n",
       "if (notebookContainer) {{\n",
       "    x.observe(notebookContainer, {childList: true});\n",
       "}}\n",
       "\n",
       "// Listen for the clearing of the current output cell\n",
       "var outputEl = gd.closest('.output');\n",
       "if (outputEl) {{\n",
       "    x.observe(outputEl, {childList: true});\n",
       "}}\n",
       "\n",
       "                        })                };                });            </script>        </div>"
      ]
     },
     "metadata": {},
     "output_type": "display_data"
    }
   ],
   "source": [
    "fig = px.scatter(\n",
    "    plot_df, \n",
    "    x='t-SNE 1', \n",
    "    y='t-SNE 2', \n",
    "    color=plot_df['Cluster'].astype(str),  \n",
    "    hover_data=['Player', 'Age', 'Squad', 'Comp'],  \n",
    "    title = 'KMeans t-SNE of Goalkeepers (≥15 Matches) from 10 Leagues',\n",
    "    width = 1000,\n",
    "    height=670\n",
    ")\n",
    "\n",
    "fig.update_layout(\n",
    "    showlegend=False  # Hide the legend\n",
    ")\n",
    "\n",
    "fig.show()"
   ]
  },
  {
   "cell_type": "code",
   "execution_count": null,
   "id": "9cf410b1-f2b8-4a97-911f-98ee5bd6e93a",
   "metadata": {},
   "outputs": [],
   "source": []
  },
  {
   "cell_type": "code",
   "execution_count": null,
   "id": "45a08394-c189-489a-8766-62cff5f2dc48",
   "metadata": {},
   "outputs": [],
   "source": []
  },
  {
   "cell_type": "code",
   "execution_count": null,
   "id": "d3c95539-c02b-4c19-b5b6-d1ebea2d61b8",
   "metadata": {},
   "outputs": [],
   "source": []
  }
 ],
 "metadata": {
  "kernelspec": {
   "display_name": "Python [conda env:base] *",
   "language": "python",
   "name": "conda-base-py"
  },
  "language_info": {
   "codemirror_mode": {
    "name": "ipython",
    "version": 3
   },
   "file_extension": ".py",
   "mimetype": "text/x-python",
   "name": "python",
   "nbconvert_exporter": "python",
   "pygments_lexer": "ipython3",
   "version": "3.12.7"
  }
 },
 "nbformat": 4,
 "nbformat_minor": 5
}
